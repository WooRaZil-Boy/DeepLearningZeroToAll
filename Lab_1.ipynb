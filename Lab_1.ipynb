{
 "cells": [
  {
   "cell_type": "markdown",
   "metadata": {},
   "source": [
    "# Hello world"
   ]
  },
  {
   "cell_type": "code",
   "execution_count": 1,
   "metadata": {},
   "outputs": [
    {
     "name": "stdout",
     "output_type": "stream",
     "text": [
      "b'Hello, world!'\n"
     ]
    }
   ],
   "source": [
    "import tensorflow as tf\n",
    "\n",
    "hello = tf.constant(\"Hello, world!\") #상수 노드를 만든다.\n",
    "\n",
    "#세션 객체를 만들고\n",
    "with tf.Session() as session: #Python with as 구문. \n",
    "    print(session.run(hello)) #세션을 실행\n",
    "    #출력은 b'Hello, world!' : 여기서 b 는 byte literals의 약자이다."
   ]
  },
  {
   "attachments": {},
   "cell_type": "markdown",
   "metadata": {
    "collapsed": true
   },
   "source": [
    "# TensorFlow Machine\n",
    "<img src=\"Images/%E1%84%89%E1%85%B3%E1%84%8F%E1%85%B3%E1%84%85%E1%85%B5%E1%86%AB%E1%84%89%E1%85%A3%E1%86%BA%202017-05-03%20%E1%84%8B%E1%85%A9%E1%84%92%E1%85%AE%201.19.28.png\">"
   ]
  },
  {
   "attachments": {},
   "cell_type": "markdown",
   "metadata": {},
   "source": [
    "# Computational Graph\n",
    "<img src=\"Images/%E1%84%89%E1%85%B3%E1%84%8F%E1%85%B3%E1%84%85%E1%85%B5%E1%86%AB%E1%84%89%E1%85%A3%E1%86%BA%202017-05-03%20%E1%84%8B%E1%85%A9%E1%84%92%E1%85%AE%201.17.50.png\">"
   ]
  },
  {
   "cell_type": "markdown",
   "metadata": {},
   "source": [
    "1 Build graph using TensorFlow operations"
   ]
  },
  {
   "cell_type": "code",
   "execution_count": 2,
   "metadata": {
    "collapsed": true
   },
   "outputs": [],
   "source": [
    "node1 = tf.constant(3.0, tf.float32)\n",
    "node2 = tf.constant(4.0) #tf.float32 기본 소수\n",
    "node3 = tf.add(node1, node2) # node3 = node1 + node2"
   ]
  },
  {
   "cell_type": "code",
   "execution_count": 3,
   "metadata": {},
   "outputs": [
    {
     "name": "stdout",
     "output_type": "stream",
     "text": [
      "node1 :  Tensor(\"Const_1:0\", shape=(), dtype=float32)\n",
      "node2 :  Tensor(\"Const_2:0\", shape=(), dtype=float32)\n",
      "node3 :  Tensor(\"Add:0\", shape=(), dtype=float32)\n"
     ]
    }
   ],
   "source": [
    "print(\"node1 : \", node1)\n",
    "print(\"node2 : \", node2)\n",
    "print(\"node3 : \", node3)\n",
    "#출력을 하면 값이 나오는 것이 아니라 노드의 정보값이 나온다. 값을 출력하려면 세션을 실행시켜야 한다. \n",
    "#Session run을 통해서 결과값을 얻는다."
   ]
  },
  {
   "cell_type": "markdown",
   "metadata": {},
   "source": [
    "2 feed data and run graph (operation) sess.run (op) \n",
    "\n",
    "3 update variables in the graph (and return values) "
   ]
  },
  {
   "cell_type": "code",
   "execution_count": 4,
   "metadata": {},
   "outputs": [
    {
     "name": "stdout",
     "output_type": "stream",
     "text": [
      "session.run(node1, node2) :  [3.0, 4.0]\n",
      "session.run(node3) :  7.0\n"
     ]
    }
   ],
   "source": [
    "with tf.Session() as session:\n",
    "    print(\"session.run(node1, node2) : \", session.run([node1, node2]))\n",
    "    print(\"session.run(node3) : \", session.run(node3))\n",
    "    #값을 출력하려면 세션을 실행시켜야 한다."
   ]
  },
  {
   "cell_type": "markdown",
   "metadata": {},
   "source": [
    "# Placeholder"
   ]
  },
  {
   "cell_type": "code",
   "execution_count": 5,
   "metadata": {},
   "outputs": [
    {
     "name": "stdout",
     "output_type": "stream",
     "text": [
      "7.5\n",
      "[ 3.  7.]\n"
     ]
    }
   ],
   "source": [
    "a = tf.placeholder(tf.float32)\n",
    "b = tf.placeholder(tf.float32)\n",
    "adder_node = a + b #tf.add(a, b)와 같다. 단축형\n",
    "#모델 입력 시 변경되지 않을 데이터를 입력하고자 할 때는 placeholder를 사용하면 된다.\n",
    "#상수(constant)처럼 바로 값을 입력할 수 없다.\n",
    "#tf.placeholder()는 tf.session.run() 함수에 전달 된 데이터에서 값을 가져 오는 텐서를 반환하므로 세션이 실행되기 전에 입력을 바로 설정할 수 있다.\n",
    "#자료형 뒤에 shape를 지정해 줄 수 도 있다. https://www.tensorflow.org/api_docs/python/tf/placeholder\n",
    "\n",
    "#tf.placeholder()는 입력 데이터를 만들 때 주로 사용한다. (실제 훈련 예제를 제공하는 변수) - 초기값을 지정할 필요 없다. (모델 입력시 변경되지 않을 데이터)\n",
    "#tf.Variable()은 데이터의 상태를 저장할 때 주로 사용한다. (가중치나 편향 등의 학습 가능한 변수) - 초기값을 지정해야 한다. (학습 되는 데이터)\n",
    "#http://stackoverflow.com/questions/36693740/whats-the-difference-between-tf-placeholder-and-tf-variable\n",
    "\n",
    "with tf.Session() as session:\n",
    "    print(session.run(adder_node, feed_dict={a: 3, b: 4.5})) #값을 넘겨주면서 그래프 실행\n",
    "    print(session.run(adder_node, feed_dict={a: [1, 3], b: [2, 4]})) #배열로 여러 값을 넘겨줄 수 있다.\n",
    "    #run()에서 feed_dict 매개 변수를 사용해서 텐서를 설정해 준다.\n",
    "    #(변수 텐서(placeholder), feed_dict = 매개변수 설정(딕셔너리))"
   ]
  },
  {
   "attachments": {},
   "cell_type": "markdown",
   "metadata": {},
   "source": [
    "# Tensor Ranks, Shapes, and Types\n",
    "\n",
    "Rank :: 차원\n",
    "\n",
    "<img src =\"Images/%E1%84%89%E1%85%B3%E1%84%8F%E1%85%B3%E1%84%85%E1%85%B5%E1%86%AB%E1%84%89%E1%85%A3%E1%86%BA%202017-05-03%20%E1%84%8B%E1%85%A9%E1%84%92%E1%85%AE%201.39.51.png\">\n",
    "\n",
    "\n",
    "Shape :: 텐서의 모양 ex)[[1, 2, 3], [4, 5, 6], [7, 8, 9]] :: (3, 3)shape\n",
    "\n",
    "<img src =\"Images/%E1%84%89%E1%85%B3%E1%84%8F%E1%85%B3%E1%84%85%E1%85%B5%E1%86%AB%E1%84%89%E1%85%A3%E1%86%BA%202017-05-03%20%E1%84%8B%E1%85%A9%E1%84%92%E1%85%AE%201.41.48.png\">\n",
    "\n",
    "Type :: 데이터의 타입\n",
    "\n",
    "<img src =\"Images/%E1%84%89%E1%85%B3%E1%84%8F%E1%85%B3%E1%84%85%E1%85%B5%E1%86%AB%E1%84%89%E1%85%A3%E1%86%BA%202017-05-03%20%E1%84%8B%E1%85%A9%E1%84%92%E1%85%AE%201.43.10.png\">"
   ]
  },
  {
   "cell_type": "code",
   "execution_count": 6,
   "metadata": {},
   "outputs": [
    {
     "data": {
      "text/plain": [
       "[[[1.0, 2.0, 3.0]], [[7.0, 8.0, 9.0]]]"
      ]
     },
     "execution_count": 6,
     "metadata": {},
     "output_type": "execute_result"
    }
   ],
   "source": [
    "3 # a rank 0 tensor; this is a scalar with shape []\n",
    "[1. ,2., 3.] # a rank 1 tensor; this is a vector with shape [3]\n",
    "[[1., 2., 3.], [4., 5., 6.]] # a rank 2 tensor; a matrix with shape [2, 3]\n",
    "[[[1., 2., 3.]], [[7., 8., 9.]]] # a rank 3 tensor with shape [2, 1, 3]"
   ]
  }
 ],
 "metadata": {
  "kernelspec": {
   "display_name": "Python 3",
   "language": "python",
   "name": "python3"
  },
  "language_info": {
   "codemirror_mode": {
    "name": "ipython",
    "version": 3
   },
   "file_extension": ".py",
   "mimetype": "text/x-python",
   "name": "python",
   "nbconvert_exporter": "python",
   "pygments_lexer": "ipython3",
   "version": "3.6.0"
  }
 },
 "nbformat": 4,
 "nbformat_minor": 2
}
