{
 "cells": [
  {
   "cell_type": "markdown",
   "metadata": {},
   "source": [
    "# Q-Network의 문제점\n",
    "\n",
    "1. Correlations between samples\n",
    "2. Non-stationary targets"
   ]
  },
  {
   "cell_type": "markdown",
   "metadata": {},
   "source": [
    "# Correlations between samples\n",
    "\n",
    "샘플들 간에 유사성이 있다 : 일반 딥러닝과 달리 비슷한 값을 조금씩 움직이면서 계속 업데이트를 하기 때문에 샘플들(input)이 상당히 유사해 진다."
   ]
  },
  {
   "cell_type": "markdown",
   "metadata": {},
   "source": [
    "<img src=\"Images/lab7_1.png\">"
   ]
  },
  {
   "cell_type": "markdown",
   "metadata": {},
   "source": [
    "# Non-stationary targets\n",
    "\n",
    "정답 레이블이 불안정하다 : 업데이트 하면서 정답 레이블에 영향을 미친다."
   ]
  },
  {
   "cell_type": "markdown",
   "metadata": {},
   "source": [
    "<img src=\"Images/lab7_2.png\">"
   ]
  },
  {
   "cell_type": "markdown",
   "metadata": {
    "collapsed": true
   },
   "source": [
    "# Solutions\n",
    "\n",
    "1. Go deep : 네트워크의 깊이를 깊게\n",
    "2. Capture and replay : Correlations between samples 의 해결책\n",
    "    * 바로 학습하지 말고 버퍼에 데이터를 모은 뒤 랜덤하게 가져와서 학습\n",
    "3. Separate networks - create a target network : Non-satationary targets의 해결책\n",
    "    * 정답레이블을 받아오는 네트워크와 학습하는 네트워크를 분리. 2개로 네트워크 유지."
   ]
  },
  {
   "cell_type": "markdown",
   "metadata": {},
   "source": [
    "<img src=\"Images/lab7_3.png\">"
   ]
  }
 ],
 "metadata": {
  "kernelspec": {
   "display_name": "Python 3",
   "language": "python",
   "name": "python3"
  },
  "language_info": {
   "codemirror_mode": {
    "name": "ipython",
    "version": 3
   },
   "file_extension": ".py",
   "mimetype": "text/x-python",
   "name": "python",
   "nbconvert_exporter": "python",
   "pygments_lexer": "ipython3",
   "version": "3.6.0"
  }
 },
 "nbformat": 4,
 "nbformat_minor": 2
}
