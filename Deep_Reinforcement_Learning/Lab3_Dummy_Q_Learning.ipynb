{
 "cells": [
  {
   "cell_type": "markdown",
   "metadata": {},
   "source": [
    "# Q-Learning"
   ]
  },
  {
   "cell_type": "markdown",
   "metadata": {},
   "source": [
    "<img src=\"Images/lab2_1.png\">\n",
    "<img src=\"Images/lab2_2.png\">\n",
    "<img src=\"Images/lab2_3.png\">\n",
    "<img src=\"Images/lab2_4.png\">\n",
    "<img src=\"Images/lab2_5.png\">\n",
    "<img src=\"Images/lab2_6.png\">"
   ]
  },
  {
   "cell_type": "markdown",
   "metadata": {
    "collapsed": true
   },
   "source": [
    "# Code: Setup"
   ]
  },
  {
   "cell_type": "code",
   "execution_count": 1,
   "metadata": {},
   "outputs": [
    {
     "name": "stderr",
     "output_type": "stream",
     "text": [
      "[2017-07-01 14:18:35,642] Making new env: FrozenLake-v3\n"
     ]
    }
   ],
   "source": [
    "import gym\n",
    "import numpy as np\n",
    "import matplotlib.pyplot as plt\n",
    "from gym.envs.registration import register\n",
    "import random as pr\n",
    "\n",
    "def rargmax(vector):\n",
    "    m = np.amax(vector) #벡터 값에서 최대값 반환\n",
    "    indices = np.nonzero(vector == m)[0] #0이 아닌 값을 돌려 준다.\n",
    "    #x = np.array([[1,0,0], [0,2,0], [1,1,0]])\n",
    "    #np.nonzero(x) : (array([0, 1, 2, 2]), array([0, 1, 0, 1]))\n",
    "    #각 [0, 0], [1, 1], [2, 0], [2, 1]이 nonzero라는 뜻\n",
    "    #np.transpose로 변환해 한 눈에 볼 수 있다.\n",
    "    #http://codepractice.tistory.com/90\n",
    "\n",
    "    return pr.choice(indices) #원래 numpy에서 중복된 값이 있을 시 가장 처음 값을 return한다. 여기서는 랜덤하게 return하도록 choice 사용\n",
    "\n",
    "register(\n",
    "    id='FrozenLake-v3',\n",
    "    entry_point='gym.envs.toy_text:FrozenLakeEnv',\n",
    "    kwargs={'map_name': '4x4',\n",
    "            'is_slippery': False}\n",
    ") #환경 설정\n",
    "\n",
    "env = gym.make(\"FrozenLake-v3\") #환경 생성"
   ]
  },
  {
   "cell_type": "markdown",
   "metadata": {},
   "source": [
    "# Code: Q-Learning"
   ]
  },
  {
   "cell_type": "code",
   "execution_count": 2,
   "metadata": {
    "collapsed": true
   },
   "outputs": [],
   "source": [
    "# Initialize table with all zeros\n",
    "Q = np.zeros([env.observation_space.n, env.action_space.n]) #16, 4(4x4 : 각 state, [Up, Down, Left, Right])\n",
    "#0으로 초기화 한다.\n",
    "\n",
    "# Set learning parameters\n",
    "num_episodes = 2000 #2000번 반복\n",
    "\n",
    "# create lists to contain total rewards and steps per episode\n",
    "rList = [] #reward 저장하기 위한 list\n",
    "for i in range(num_episodes): #loop를 돌면서 Q-learning 진행\n",
    "    # Reset environment and get first new observation\n",
    "    #while loop 실행하기 전 값을 초기화 시켜 준다.\n",
    "    state = env.reset() #초기화\n",
    "    rAll = 0 #0이면 실패, 1이면 성공\n",
    "    done = False\n",
    "\n",
    "    # The Q-Table learning algorithm\n",
    "    while not done:\n",
    "        action = rargmax(Q[state, :]) #현재 state와 전체요소(Up, Down, Left, Right) 전체를 파라미터로. 랜덤 최대값 반환하는 Q-learning\n",
    "\n",
    "        # Get new state and reward from environment\n",
    "        new_state, reward, done, _ = env.step(action) #액션 실행\n",
    "\n",
    "        # Update Q-Table with new knowledge using learning rate\n",
    "        Q[state, action] = reward + np.max(Q[new_state, :]) #Q-table을 업데이트 한다.\n",
    "        #각 4방향 액션에서 값 업데이트\n",
    "\n",
    "        rAll += reward #각 reward를 합한다. 이 값이 0이 되면 보상없이 게임이 종료되었으므로 Hole에 빠진 실패. 1이면 성공\n",
    "        state = new_state #state 업데이트 (이동)\n",
    "\n",
    "    rList.append(rAll) #결과 기록"
   ]
  },
  {
   "cell_type": "code",
   "execution_count": 3,
   "metadata": {},
   "outputs": [
    {
     "name": "stdout",
     "output_type": "stream",
     "text": [
      "Success rate: 0.957\n",
      "Final Q-Table Values\n",
      "LEFT DOWN RIGHT UP\n",
      "[[ 0.  0.  1.  0.]\n",
      " [ 0.  0.  1.  0.]\n",
      " [ 0.  1.  0.  0.]\n",
      " [ 0.  0.  0.  0.]\n",
      " [ 0.  0.  0.  0.]\n",
      " [ 0.  0.  0.  0.]\n",
      " [ 0.  1.  0.  0.]\n",
      " [ 0.  0.  0.  0.]\n",
      " [ 0.  0.  0.  0.]\n",
      " [ 0.  0.  1.  0.]\n",
      " [ 0.  1.  0.  0.]\n",
      " [ 0.  0.  0.  0.]\n",
      " [ 0.  0.  0.  0.]\n",
      " [ 0.  0.  0.  0.]\n",
      " [ 0.  0.  1.  0.]\n",
      " [ 0.  0.  0.  0.]]\n"
     ]
    },
    {
     "data": {
      "image/png": "[encoded data removed]",
      "text/plain": [
       "<matplotlib.figure.Figure at 0x1121988d0>"
      ]
     },
     "metadata": {},
     "output_type": "display_data"
    }
   ],
   "source": [
    "print(\"Success rate: \" + str(sum(rList) / num_episodes))\n",
    "print(\"Final Q-Table Values\")\n",
    "print(\"LEFT DOWN RIGHT UP\")\n",
    "print(Q)\n",
    "plt.bar(range(len(rList)), rList, color=\"blue\")\n",
    "plt.show()\n",
    "\n",
    "#처음 몇 번의 경우에만 학습 중이므로 실패하지만, 어느 정도 학습 된 이후에는 항상 성공"
   ]
  },
  {
   "cell_type": "markdown",
   "metadata": {},
   "source": [
    "<img src=\"Images/lab2_7.png\">"
   ]
  }
 ],
 "metadata": {
  "kernelspec": {
   "display_name": "Python 3",
   "language": "python",
   "name": "python3"
  },
  "language_info": {
   "codemirror_mode": {
    "name": "ipython",
    "version": 3
   },
   "file_extension": ".py",
   "mimetype": "text/x-python",
   "name": "python",
   "nbconvert_exporter": "python",
   "pygments_lexer": "ipython3",
   "version": "3.6.0"
  }
 },
 "nbformat": 4,
 "nbformat_minor": 2
}
